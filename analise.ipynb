{
 "cells": [
  {
   "cell_type": "code",
   "id": "initial_id",
   "metadata": {
    "collapsed": true,
    "ExecuteTime": {
     "end_time": "2025-08-23T18:42:17.978556Z",
     "start_time": "2025-08-23T18:42:17.973168Z"
    }
   },
   "source": [
    "import pandas as pd\n",
    "import glob\n",
    "import os"
   ],
   "outputs": [],
   "execution_count": 9
  },
  {
   "metadata": {},
   "cell_type": "markdown",
   "source": "### Ler o dataset",
   "id": "d7fb305f635b2e93"
  },
  {
   "metadata": {
    "ExecuteTime": {
     "end_time": "2025-08-23T18:43:45.396753Z",
     "start_time": "2025-08-23T18:43:45.338929Z"
    }
   },
   "cell_type": "code",
   "source": [
    "file_pattern = \"export_*_to_*.xls\"\n",
    "\n",
    "xls_files = glob.glob(file_pattern)\n",
    "\n",
    "if not xls_files:\n",
    "    print(\"Nenhum arquiv\")\n",
    "else:\n",
    "    xls_files.sort()\n",
    "    print(f\"📄 Encontrados {len(xls_files)} arquivos:\")\n",
    "    for f in xls_files:\n",
    "        print(f\"  - {f}\")\n",
    "dataframes_list = []\n",
    "\n",
    "for file in xls_files:\n",
    "    try:\n",
    "        print(f\"Lendo o arquivo: {file}...\")\n",
    "        df = pd.read_excel(file)\n",
    "        dataframes_list.append(df)\n",
    "    except Exception as e:\n",
    "        print(f\"Erro ao ler o arquivo {file}: {e}\")\n",
    "\n",
    "print(\"\\n✅ Processo de leitura concluído!\")\n",
    "if dataframes_list:\n",
    "    dados_completos_df = pd.concat(dataframes_list, ignore_index=True)\n",
    "    print(\"DataFrames combinados\")\n",
    "else:\n",
    "    print(\"Nenhum dado\")\n",
    "\n",
    "output_csv_file = 'dados_completos.csv'\n",
    "dados_completos_df.to_csv(output_csv_file, index=False, encoding='utf-8-sig')\n",
    "\n",
    "print(f\"✅ Arquivo '{output_csv_file}' salvo\")"
   ],
   "id": "6f0529a53c6f5a2b",
   "outputs": [
    {
     "name": "stdout",
     "output_type": "stream",
     "text": [
      "Nenhum arquiv\n",
      "\n",
      "✅ Processo de leitura concluído!\n",
      "Nenhum dado\n"
     ]
    },
    {
     "ename": "NameError",
     "evalue": "name 'dados_completos_df' is not defined",
     "output_type": "error",
     "traceback": [
      "\u001B[31m---------------------------------------------------------------------------\u001B[39m",
      "\u001B[31mNameError\u001B[39m                                 Traceback (most recent call last)",
      "\u001B[36mCell\u001B[39m\u001B[36m \u001B[39m\u001B[32mIn[10]\u001B[39m\u001B[32m, line 30\u001B[39m\n\u001B[32m     27\u001B[39m     \u001B[38;5;28mprint\u001B[39m(\u001B[33m\"\u001B[39m\u001B[33mNenhum dado\u001B[39m\u001B[33m\"\u001B[39m)\n\u001B[32m     29\u001B[39m output_csv_file = \u001B[33m'\u001B[39m\u001B[33mdados_completos.csv\u001B[39m\u001B[33m'\u001B[39m\n\u001B[32m---> \u001B[39m\u001B[32m30\u001B[39m dados_completos_df.to_csv(output_csv_file, index=\u001B[38;5;28;01mFalse\u001B[39;00m, encoding=\u001B[33m'\u001B[39m\u001B[33mutf-8-sig\u001B[39m\u001B[33m'\u001B[39m)\n\u001B[32m     32\u001B[39m \u001B[38;5;28mprint\u001B[39m(\u001B[33mf\u001B[39m\u001B[33m\"\u001B[39m\u001B[33m✅ Arquivo \u001B[39m\u001B[33m'\u001B[39m\u001B[38;5;132;01m{\u001B[39;00moutput_csv_file\u001B[38;5;132;01m}\u001B[39;00m\u001B[33m'\u001B[39m\u001B[33m salvo\u001B[39m\u001B[33m\"\u001B[39m)\n",
      "\u001B[31mNameError\u001B[39m: name 'dados_completos_df' is not defined"
     ]
    }
   ],
   "execution_count": 10
  }
 ],
 "metadata": {
  "kernelspec": {
   "display_name": "Python 3",
   "language": "python",
   "name": "python3"
  },
  "language_info": {
   "codemirror_mode": {
    "name": "ipython",
    "version": 2
   },
   "file_extension": ".py",
   "mimetype": "text/x-python",
   "name": "python",
   "nbconvert_exporter": "python",
   "pygments_lexer": "ipython2",
   "version": "2.7.6"
  }
 },
 "nbformat": 4,
 "nbformat_minor": 5
}
